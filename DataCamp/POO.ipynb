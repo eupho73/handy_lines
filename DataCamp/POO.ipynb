{
 "cells": [
  {
   "cell_type": "markdown",
   "metadata": {},
   "source": [
    "# OOP"
   ]
  },
  {
   "cell_type": "code",
   "execution_count": 8,
   "metadata": {},
   "outputs": [],
   "source": [
    "class Employee:\n",
    "    \n",
    "    def __init__(self, name, salary = 0):\n",
    "        self.name = name\n",
    "        if salary < 0:\n",
    "            self.salary = 0\n",
    "            print(\"Please enter a correct salary\")\n",
    "        else:\n",
    "            self.salary = salary\n",
    "    #increase an employee's salary\n",
    "    def get_raise(self, raise_amount):\n",
    "        self.salary += raise_amount\n",
    "    #edit an employee's name\n",
    "    def set_name(self, new_name):\n",
    "        self.name = new_name"
   ]
  },
  {
   "cell_type": "code",
   "execution_count": 9,
   "metadata": {},
   "outputs": [],
   "source": [
    "e1 = Employee('Damien', 40500)"
   ]
  },
  {
   "cell_type": "code",
   "execution_count": 12,
   "metadata": {},
   "outputs": [],
   "source": [
    "e1.get_raise(1400)"
   ]
  },
  {
   "cell_type": "code",
   "execution_count": 13,
   "metadata": {},
   "outputs": [
    {
     "data": {
      "text/plain": [
       "41900"
      ]
     },
     "execution_count": 13,
     "metadata": {},
     "output_type": "execute_result"
    }
   ],
   "source": [
    "e1.salary"
   ]
  },
  {
   "cell_type": "code",
   "execution_count": 10,
   "metadata": {},
   "outputs": [
    {
     "data": {
      "text/plain": [
       "__main__.Employee"
      ]
     },
     "execution_count": 10,
     "metadata": {},
     "output_type": "execute_result"
    }
   ],
   "source": [
    "type(e1)"
   ]
  },
  {
   "cell_type": "code",
   "execution_count": 11,
   "metadata": {},
   "outputs": [
    {
     "name": "stdout",
     "output_type": "stream",
     "text": [
      "Help on Employee in module __main__ object:\n",
      "\n",
      "class Employee(builtins.object)\n",
      " |  Employee(name, salary=0)\n",
      " |  \n",
      " |  Methods defined here:\n",
      " |  \n",
      " |  __init__(self, name, salary=0)\n",
      " |      Initialize self.  See help(type(self)) for accurate signature.\n",
      " |  \n",
      " |  get_raise(self, raise_amount)\n",
      " |      #increase an employee's salary\n",
      " |  \n",
      " |  set_name(self, new_name)\n",
      " |      #edit an employee's name\n",
      " |  \n",
      " |  ----------------------------------------------------------------------\n",
      " |  Data descriptors defined here:\n",
      " |  \n",
      " |  __dict__\n",
      " |      dictionary for instance variables (if defined)\n",
      " |  \n",
      " |  __weakref__\n",
      " |      list of weak references to the object (if defined)\n",
      "\n"
     ]
    }
   ],
   "source": [
    "help(e1)"
   ]
  },
  {
   "cell_type": "code",
   "execution_count": 4,
   "metadata": {},
   "outputs": [
    {
     "data": {
      "text/plain": [
       "['__class__',\n",
       " '__delattr__',\n",
       " '__dict__',\n",
       " '__dir__',\n",
       " '__doc__',\n",
       " '__eq__',\n",
       " '__format__',\n",
       " '__ge__',\n",
       " '__getattribute__',\n",
       " '__gt__',\n",
       " '__hash__',\n",
       " '__init__',\n",
       " '__init_subclass__',\n",
       " '__le__',\n",
       " '__lt__',\n",
       " '__module__',\n",
       " '__ne__',\n",
       " '__new__',\n",
       " '__reduce__',\n",
       " '__reduce_ex__',\n",
       " '__repr__',\n",
       " '__setattr__',\n",
       " '__sizeof__',\n",
       " '__str__',\n",
       " '__subclasshook__',\n",
       " '__weakref__',\n",
       " 'get_raise',\n",
       " 'name',\n",
       " 'salary',\n",
       " 'set_name']"
      ]
     },
     "execution_count": 4,
     "metadata": {},
     "output_type": "execute_result"
    }
   ],
   "source": [
    "dir(e1)"
   ]
  },
  {
   "cell_type": "markdown",
   "metadata": {},
   "source": [
    "## Class Method"
   ]
  },
  {
   "cell_type": "markdown",
   "metadata": {},
   "source": [
    "<p> On utilise un décorateur à l'intérieur de la classe </p>"
   ]
  },
  {
   "cell_type": "code",
   "execution_count": 30,
   "metadata": {},
   "outputs": [],
   "source": [
    "class Employee:\n",
    "    \n",
    "    def __init__(self, name, salary = 0):\n",
    "        self.name = name\n",
    "        if salary < 0:\n",
    "            self.salary = 0\n",
    "            print(\"Please enter a correct salary\")\n",
    "        else:\n",
    "            self.salary = salary\n",
    "    #increase an employee's salary\n",
    "    def get_raise(self, raise_amount):\n",
    "        self.salary += raise_amount\n",
    "    #edit an employee's name\n",
    "    def set_name(self, new_name):\n",
    "        self.name = new_name\n",
    "\n",
    "    @classmethod\n",
    "    # Retrieve an employee's name from the first line of a txt file\n",
    "    def from_file(cls, filename):  # cls argument refers to the class\n",
    "        with open(filename, \"r\") as f:\n",
    "            name = f.readline()\n",
    "        return cls(name)\n",
    "\n",
    "    @classmethod\n",
    "    # Retrieve an employee's name from the first line of a txt file and pass salary\n",
    "    def from_file_salary(cls, filename, salary):  # cls argument refers to the class\n",
    "        with open(filename, \"r\") as f:\n",
    "            name = f.readline()\n",
    "        Employee.__init__(cls, name, salary)\n",
    "    "
   ]
  },
  {
   "cell_type": "code",
   "execution_count": 16,
   "metadata": {},
   "outputs": [],
   "source": [
    "# Let's call a class method\n",
    "\n",
    "e2 = Employee.from_file(\"classmethod.txt\")  # This is an alternative constructor"
   ]
  },
  {
   "cell_type": "code",
   "execution_count": 17,
   "metadata": {},
   "outputs": [
    {
     "data": {
      "text/plain": [
       "'Paul-Louis Dal-Molin'"
      ]
     },
     "execution_count": 17,
     "metadata": {},
     "output_type": "execute_result"
    }
   ],
   "source": [
    "e2.name"
   ]
  },
  {
   "cell_type": "code",
   "execution_count": 31,
   "metadata": {},
   "outputs": [],
   "source": [
    "e3 = Employee.from_file_salary(\"classmethod.txt\", 45000)"
   ]
  },
  {
   "cell_type": "code",
   "execution_count": 34,
   "metadata": {},
   "outputs": [
    {
     "data": {
      "text/plain": [
       "NoneType"
      ]
     },
     "execution_count": 34,
     "metadata": {},
     "output_type": "execute_result"
    }
   ],
   "source": [
    "type(e3)"
   ]
  },
  {
   "cell_type": "code",
   "execution_count": 25,
   "metadata": {},
   "outputs": [],
   "source": [
    "# Un autre exemple\n",
    "\n",
    "# import datetime from datetime\n",
    "from datetime import datetime\n",
    "\n",
    "class BetterDate:\n",
    "    def __init__(self, year, month, day):\n",
    "      self.year, self.month, self.day = year, month, day\n",
    "      \n",
    "    @classmethod\n",
    "    def from_str(cls, datestr):\n",
    "        year, month, day = map(int, datestr.split(\"-\"))\n",
    "        return cls(year, month, day)\n",
    "      \n",
    "    # Define a class method from_datetime accepting a datetime object\n",
    "    @classmethod\n",
    "    def from_datetime(cls, datetim):\n",
    "      year, month, day = datetim.year, datetim.month, datetim.day\n",
    "      return cls(year, month, day)"
   ]
  },
  {
   "cell_type": "code",
   "execution_count": 26,
   "metadata": {},
   "outputs": [
    {
     "name": "stdout",
     "output_type": "stream",
     "text": [
      "2021\n",
      "12\n",
      "5\n"
     ]
    }
   ],
   "source": [
    "# You should be able to run the code below with no errors: \n",
    "today = datetime.today()     \n",
    "bd = BetterDate.from_datetime(today)   \n",
    "print(bd.year)\n",
    "print(bd.month)\n",
    "print(bd.day)"
   ]
  },
  {
   "cell_type": "markdown",
   "metadata": {},
   "source": [
    "## Class Inheritance"
   ]
  },
  {
   "cell_type": "markdown",
   "metadata": {},
   "source": [
    "## Customizing constructors"
   ]
  },
  {
   "cell_type": "code",
   "execution_count": null,
   "metadata": {},
   "outputs": [],
   "source": [
    "class SavingAccount(BankAccount):\n",
    "\n",
    "    # Constructor specifically for SavingAccount w/ an additional parameter\n",
    "    def __init__(self, balance, interest_rate):\n",
    "        #Call the parent constructor using ClassName.__init__()\n",
    "        BankAccount.__init__(self, balance)   #self is a SavingAccount but also a BankAccount\n",
    "        self.interest_rate = interest_rate\n",
    "\n",
    "    # new functionality\n",
    "    def compute_interest(self, n_periods = 1):\n",
    "        return self.balance * ( (1 + self.interest_rate) ** n_periods - 1)"
   ]
  },
  {
   "cell_type": "markdown",
   "metadata": {},
   "source": [
    "## Un exemple avec des librairies utiles"
   ]
  },
  {
   "cell_type": "code",
   "execution_count": null,
   "metadata": {},
   "outputs": [],
   "source": [
    "# Import pandas as pd\n",
    "import pandas as pd\n",
    "\n",
    "# Define LoggedDF inherited from pd.DataFrame and add the constructor\n",
    "class LoggedDF(pd.DataFrame):\n",
    "  \n",
    "  def __init__(self, *args, **kwargs):\n",
    "    pd.DataFrame.__init__(self, *args, **kwargs)\n",
    "    self.created_at = datetime.today()\n",
    "    \n",
    "  def to_csv(self, *args, **kwargs):\n",
    "    # Copy self to a temporary DataFrame\n",
    "    temp = self.copy()\n",
    "    \n",
    "    # Create a new column filled with self.created_at\n",
    "    temp[\"created_at\"] = self.created_at\n",
    "    \n",
    "    # Call pd.DataFrame.to_csv on temp, passing in *args and **kwargs\n",
    "    pd.DataFrame.to_csv(temp, *args, *kwargs)"
   ]
  },
  {
   "cell_type": "markdown",
   "metadata": {},
   "source": [
    "## Operation overloading"
   ]
  },
  {
   "cell_type": "code",
   "execution_count": 1,
   "metadata": {},
   "outputs": [],
   "source": [
    "class Customer:\n",
    "    def __init__(self, id, name):\n",
    "        self.id, self.name = id, name\n",
    "\n",
    "    def __eq__(self, other):\n",
    "        return (self.id == other.id) and (self.name == other.name)"
   ]
  },
  {
   "cell_type": "code",
   "execution_count": 2,
   "metadata": {},
   "outputs": [],
   "source": [
    "c1 = Customer(2, \"Jean\")\n",
    "c2 = Customer(2, \"Jean\")\n",
    "c3 = Customer(666, \"Philipe\")"
   ]
  },
  {
   "cell_type": "code",
   "execution_count": 3,
   "metadata": {},
   "outputs": [
    {
     "data": {
      "text/plain": [
       "True"
      ]
     },
     "execution_count": 3,
     "metadata": {},
     "output_type": "execute_result"
    }
   ],
   "source": [
    "c1 == c2"
   ]
  },
  {
   "cell_type": "code",
   "execution_count": 4,
   "metadata": {},
   "outputs": [
    {
     "data": {
      "text/plain": [
       "False"
      ]
     },
     "execution_count": 4,
     "metadata": {},
     "output_type": "execute_result"
    }
   ],
   "source": [
    "c1== c3"
   ]
  },
  {
   "cell_type": "markdown",
   "metadata": {},
   "source": [
    "Other comparison operator :\n",
    "```\n",
    "__eq__()\n",
    "__ne__()\n",
    "__ge__()\n",
    "__le__()\n",
    "__gt__()\n",
    "__lt__()\n",
    "__hash__()\n",
    "```\n",
    "hash donne un id objet sur des groupes d'objets (?)"
   ]
  },
  {
   "cell_type": "markdown",
   "metadata": {},
   "source": [
    "### String representation"
   ]
  },
  {
   "cell_type": "code",
   "execution_count": 7,
   "metadata": {},
   "outputs": [
    {
     "name": "stdout",
     "output_type": "stream",
     "text": [
      "str representation\n",
      "[1 2 3]\n",
      "\n",
      " repr representation\n"
     ]
    },
    {
     "data": {
      "text/plain": [
       "'array([1, 2, 3])'"
      ]
     },
     "execution_count": 7,
     "metadata": {},
     "output_type": "execute_result"
    }
   ],
   "source": [
    "# str vs. repr\n",
    "\n",
    "import numpy as np\n",
    "\n",
    "\n",
    "print(\"str representation\");\n",
    "print(np.array([1, 2, 3]));\n",
    "\n",
    "print(\"\\n repr representation\");\n",
    "repr(np.array([1, 2, 3]))"
   ]
  },
  {
   "cell_type": "code",
   "execution_count": 11,
   "metadata": {},
   "outputs": [],
   "source": [
    "class Customer:\n",
    "    def __init__(self, id, name, balance=0):\n",
    "        self.id, self.name, self.balance = id, name, balance\n",
    "\n",
    "    def __eq__(self, other):\n",
    "        return (self.id == other.id) and (self.name == other.name)\n",
    "\n",
    "    def __str__(self):\n",
    "        cust_str = \"\"\"\n",
    "        Customer:\n",
    "        id: {id}\n",
    "        name: {name}\n",
    "        balance: {balance}\n",
    "        \"\"\".format(id = self.id, name = self.name, balance = self.balance)\n",
    "        return cust_str\n",
    "\n",
    "    def __repr__(self):\n",
    "        return \"Customer({id}, '{name}', {balance})\".format(id = self.id, name=self.name, balance=self.balance)"
   ]
  },
  {
   "cell_type": "code",
   "execution_count": 12,
   "metadata": {},
   "outputs": [],
   "source": [
    "c1 = Customer(321, 'Jean', 42000)"
   ]
  },
  {
   "cell_type": "code",
   "execution_count": 13,
   "metadata": {},
   "outputs": [
    {
     "name": "stdout",
     "output_type": "stream",
     "text": [
      "\n",
      "        Customer:\n",
      "        id: 321\n",
      "        name: Jean\n",
      "        balance: 42000\n",
      "        \n"
     ]
    }
   ],
   "source": [
    "print(c1)"
   ]
  },
  {
   "cell_type": "code",
   "execution_count": 14,
   "metadata": {},
   "outputs": [
    {
     "data": {
      "text/plain": [
       "Customer(321, 'Jean', 42000)"
      ]
     },
     "execution_count": 14,
     "metadata": {},
     "output_type": "execute_result"
    }
   ],
   "source": [
    "c1"
   ]
  },
  {
   "cell_type": "markdown",
   "metadata": {},
   "source": [
    "## Exceptions"
   ]
  },
  {
   "cell_type": "code",
   "execution_count": 15,
   "metadata": {},
   "outputs": [
    {
     "ename": "ValueError",
     "evalue": "Invalid length!",
     "output_type": "error",
     "traceback": [
      "\u001b[1;31m---------------------------------------------------------------------------\u001b[0m",
      "\u001b[1;31mValueError\u001b[0m                                Traceback (most recent call last)",
      "\u001b[1;32m~\\AppData\\Local\\Temp/ipykernel_18152/3536974458.py\u001b[0m in \u001b[0;36m<module>\u001b[1;34m\u001b[0m\n\u001b[1;32m----> 1\u001b[1;33m \u001b[1;32mraise\u001b[0m \u001b[0mValueError\u001b[0m\u001b[1;33m(\u001b[0m\u001b[1;34m\"Invalid length!\"\u001b[0m\u001b[1;33m)\u001b[0m\u001b[1;33m\u001b[0m\u001b[1;33m\u001b[0m\u001b[0m\n\u001b[0m",
      "\u001b[1;31mValueError\u001b[0m: Invalid length!"
     ]
    }
   ],
   "source": [
    "raise ValueError(\"Invalid length!\")"
   ]
  },
  {
   "cell_type": "code",
   "execution_count": 16,
   "metadata": {},
   "outputs": [],
   "source": [
    "# Les exceptions sont une classe python\n",
    "\n",
    "class BalanceError(Exception): pass"
   ]
  },
  {
   "cell_type": "code",
   "execution_count": 17,
   "metadata": {},
   "outputs": [],
   "source": [
    "class Customer:\n",
    "    def __init__(self, id, name, balance):\n",
    "        if balance < 0:\n",
    "            raise BalanceError(\"Balance has to be non-negative!\")\n",
    "        else:\n",
    "            self.id, self.name, self.balance = id, name, balance\n",
    "\n",
    "    def __eq__(self, other):\n",
    "        return (self.id == other.id) and (self.name == other.name)\n",
    "\n",
    "    def __str__(self):\n",
    "        cust_str = \"\"\"\n",
    "        Customer:\n",
    "        id: {id}\n",
    "        name: {name}\n",
    "        balance: {balance}\n",
    "        \"\"\".format(id = self.id, name = self.name, balance = self.balance)\n",
    "        return cust_str\n",
    "\n",
    "    def __repr__(self):\n",
    "        return \"Customer({id}, '{name}', {balance})\".format(id = self.id, name=self.name, balance=self.balance)"
   ]
  },
  {
   "cell_type": "code",
   "execution_count": 18,
   "metadata": {},
   "outputs": [
    {
     "ename": "BalanceError",
     "evalue": "Balance has to be non-negative!",
     "output_type": "error",
     "traceback": [
      "\u001b[1;31m---------------------------------------------------------------------------\u001b[0m",
      "\u001b[1;31mBalanceError\u001b[0m                              Traceback (most recent call last)",
      "\u001b[1;32m~\\AppData\\Local\\Temp/ipykernel_18152/3559228520.py\u001b[0m in \u001b[0;36m<module>\u001b[1;34m\u001b[0m\n\u001b[1;32m----> 1\u001b[1;33m \u001b[0mcust\u001b[0m \u001b[1;33m=\u001b[0m \u001b[0mCustomer\u001b[0m\u001b[1;33m(\u001b[0m\u001b[1;36m12\u001b[0m\u001b[1;33m,\u001b[0m \u001b[1;34m\"larry\"\u001b[0m\u001b[1;33m,\u001b[0m \u001b[1;33m-\u001b[0m\u001b[1;36m45\u001b[0m\u001b[1;33m)\u001b[0m\u001b[1;33m\u001b[0m\u001b[1;33m\u001b[0m\u001b[0m\n\u001b[0m",
      "\u001b[1;32m~\\AppData\\Local\\Temp/ipykernel_18152/3885461297.py\u001b[0m in \u001b[0;36m__init__\u001b[1;34m(self, id, name, balance)\u001b[0m\n\u001b[0;32m      2\u001b[0m     \u001b[1;32mdef\u001b[0m \u001b[0m__init__\u001b[0m\u001b[1;33m(\u001b[0m\u001b[0mself\u001b[0m\u001b[1;33m,\u001b[0m \u001b[0mid\u001b[0m\u001b[1;33m,\u001b[0m \u001b[0mname\u001b[0m\u001b[1;33m,\u001b[0m \u001b[0mbalance\u001b[0m\u001b[1;33m)\u001b[0m\u001b[1;33m:\u001b[0m\u001b[1;33m\u001b[0m\u001b[1;33m\u001b[0m\u001b[0m\n\u001b[0;32m      3\u001b[0m         \u001b[1;32mif\u001b[0m \u001b[0mbalance\u001b[0m \u001b[1;33m<\u001b[0m \u001b[1;36m0\u001b[0m\u001b[1;33m:\u001b[0m\u001b[1;33m\u001b[0m\u001b[1;33m\u001b[0m\u001b[0m\n\u001b[1;32m----> 4\u001b[1;33m             \u001b[1;32mraise\u001b[0m \u001b[0mBalanceError\u001b[0m\u001b[1;33m(\u001b[0m\u001b[1;34m\"Balance has to be non-negative!\"\u001b[0m\u001b[1;33m)\u001b[0m\u001b[1;33m\u001b[0m\u001b[1;33m\u001b[0m\u001b[0m\n\u001b[0m\u001b[0;32m      5\u001b[0m         \u001b[1;32melse\u001b[0m\u001b[1;33m:\u001b[0m\u001b[1;33m\u001b[0m\u001b[1;33m\u001b[0m\u001b[0m\n\u001b[0;32m      6\u001b[0m             \u001b[0mself\u001b[0m\u001b[1;33m.\u001b[0m\u001b[0mid\u001b[0m\u001b[1;33m,\u001b[0m \u001b[0mself\u001b[0m\u001b[1;33m.\u001b[0m\u001b[0mname\u001b[0m\u001b[1;33m,\u001b[0m \u001b[0mself\u001b[0m\u001b[1;33m.\u001b[0m\u001b[0mbalance\u001b[0m \u001b[1;33m=\u001b[0m \u001b[0mid\u001b[0m\u001b[1;33m,\u001b[0m \u001b[0mname\u001b[0m\u001b[1;33m,\u001b[0m \u001b[0mbalance\u001b[0m\u001b[1;33m\u001b[0m\u001b[1;33m\u001b[0m\u001b[0m\n",
      "\u001b[1;31mBalanceError\u001b[0m: Balance has to be non-negative!"
     ]
    }
   ],
   "source": [
    "cust = Customer(12, \"larry\", -45)"
   ]
  },
  {
   "cell_type": "markdown",
   "metadata": {},
   "source": [
    "## Private Attributes "
   ]
  },
  {
   "cell_type": "code",
   "execution_count": 19,
   "metadata": {},
   "outputs": [],
   "source": [
    "# All class data is public\n",
    "\n",
    "# How to restrict access\n",
    "\n",
    "#Naming convention: internal attributes\n",
    "obj._att_name\n",
    "# If you see this attribute don't use it. The class developertrusts you with this responsability\n",
    "\n",
    "# Naming convention: pseudoprivate attributes\n",
    "obj.__attr_name\n",
    "## Used to prevent name clashs with inheritence"
   ]
  },
  {
   "cell_type": "markdown",
   "metadata": {},
   "source": [
    "## Properties"
   ]
  },
  {
   "cell_type": "code",
   "execution_count": 20,
   "metadata": {},
   "outputs": [],
   "source": [
    "class Employer:\n",
    "    def __init__(self, name, new_salary):\n",
    "        self._salary = new_salary   # <- 'protected' attribute w/leading _ to store data\n",
    "    \n",
    "    @property                       # <- use @property on a method whose name is exactly the name of the restricted attribute\n",
    "    def salary(self):\n",
    "        return self._salary\n",
    "\n",
    "    @salary.setter\n",
    "    def salary(self, new_salary):   # <- use @attr.setter on a method attr() that will be called on obj.attr = value\n",
    "        if new_salary < 0:\n",
    "            raise ValueError(\"Invalid salary\")\n",
    "        self._salary = new_salary"
   ]
  },
  {
   "cell_type": "code",
   "execution_count": 21,
   "metadata": {},
   "outputs": [],
   "source": [
    "emp = Employer(\"dam\", 499999)"
   ]
  },
  {
   "cell_type": "code",
   "execution_count": 22,
   "metadata": {},
   "outputs": [
    {
     "data": {
      "text/plain": [
       "499999"
      ]
     },
     "execution_count": 22,
     "metadata": {},
     "output_type": "execute_result"
    }
   ],
   "source": [
    "emp.salary"
   ]
  },
  {
   "cell_type": "code",
   "execution_count": 23,
   "metadata": {},
   "outputs": [],
   "source": [
    "emp.salary = 3666678"
   ]
  },
  {
   "cell_type": "code",
   "execution_count": 24,
   "metadata": {},
   "outputs": [
    {
     "data": {
      "text/plain": [
       "3666678"
      ]
     },
     "execution_count": 24,
     "metadata": {},
     "output_type": "execute_result"
    }
   ],
   "source": [
    "emp.salary"
   ]
  },
  {
   "cell_type": "code",
   "execution_count": null,
   "metadata": {},
   "outputs": [],
   "source": [
    "# Other possibilities\n",
    "\n",
    "# @attr.getter\n",
    "# Use for a method that is called when the property's value is retrieved\n",
    "\n",
    "# @attr.deleter\n",
    "# property : deleting"
   ]
  }
 ],
 "metadata": {
  "interpreter": {
   "hash": "fe06f96167c4fc64a78c238d993189072a4e72b444216e36203d6f96126eaf0a"
  },
  "kernelspec": {
   "display_name": "Python 3.9.7 64-bit",
   "language": "python",
   "name": "python3"
  },
  "language_info": {
   "codemirror_mode": {
    "name": "ipython",
    "version": 3
   },
   "file_extension": ".py",
   "mimetype": "text/x-python",
   "name": "python",
   "nbconvert_exporter": "python",
   "pygments_lexer": "ipython3",
   "version": "3.9.7"
  },
  "orig_nbformat": 4
 },
 "nbformat": 4,
 "nbformat_minor": 2
}

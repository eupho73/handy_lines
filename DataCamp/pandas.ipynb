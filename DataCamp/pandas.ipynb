{
 "cells": [
  {
   "cell_type": "markdown",
   "metadata": {},
   "source": [
    "## Select random rows"
   ]
  },
  {
   "cell_type": "code",
   "execution_count": 1,
   "metadata": {},
   "outputs": [],
   "source": [
    "import pandas as pd\n",
    "\n",
    "#dummy df\n",
    "df = pd.read_pickle(\"complete_df.pkl\")"
   ]
  },
  {
   "cell_type": "code",
   "execution_count": 2,
   "metadata": {},
   "outputs": [
    {
     "name": "stdout",
     "output_type": "stream",
     "text": [
      "894 µs ± 52.7 µs per loop (mean ± std. dev. of 7 runs, 1000 loops each)\n"
     ]
    }
   ],
   "source": [
    "%timeit df.sample(2, axis=0)   # 2 random rows of df"
   ]
  },
  {
   "cell_type": "code",
   "execution_count": 3,
   "metadata": {},
   "outputs": [
    {
     "data": {
      "text/html": [
       "<div>\n",
       "<style scoped>\n",
       "    .dataframe tbody tr th:only-of-type {\n",
       "        vertical-align: middle;\n",
       "    }\n",
       "\n",
       "    .dataframe tbody tr th {\n",
       "        vertical-align: top;\n",
       "    }\n",
       "\n",
       "    .dataframe thead th {\n",
       "        text-align: right;\n",
       "    }\n",
       "</style>\n",
       "<table border=\"1\" class=\"dataframe\">\n",
       "  <thead>\n",
       "    <tr style=\"text-align: right;\">\n",
       "      <th></th>\n",
       "      <th>titre_video</th>\n",
       "      <th>video_id</th>\n",
       "      <th>nom_chaine</th>\n",
       "      <th>date_visionnage</th>\n",
       "      <th>heure_visionnage</th>\n",
       "      <th>categorie</th>\n",
       "      <th>langue</th>\n",
       "      <th>publié_le</th>\n",
       "      <th>tags</th>\n",
       "      <th>durée</th>\n",
       "      <th>nombre_de_commentaires</th>\n",
       "      <th>nombre_de_dislike</th>\n",
       "      <th>nombre_de_like</th>\n",
       "      <th>nombre_de_vues</th>\n",
       "      <th>compte_chaine</th>\n",
       "      <th>compte_video</th>\n",
       "    </tr>\n",
       "  </thead>\n",
       "  <tbody>\n",
       "    <tr>\n",
       "      <th>7813</th>\n",
       "      <td>Composing Quick Tips - Writing Full Sketches</td>\n",
       "      <td>jqCKoIzdQVA</td>\n",
       "      <td>Inside the Score</td>\n",
       "      <td>2020-12-20</td>\n",
       "      <td>15:00:48</td>\n",
       "      <td>Gaming</td>\n",
       "      <td>en</td>\n",
       "      <td>2020-12-07T13:00:28Z</td>\n",
       "      <td>None</td>\n",
       "      <td>PT2M2S</td>\n",
       "      <td>44</td>\n",
       "      <td>8</td>\n",
       "      <td>267</td>\n",
       "      <td>4836</td>\n",
       "      <td>19</td>\n",
       "      <td>1</td>\n",
       "    </tr>\n",
       "    <tr>\n",
       "      <th>28780</th>\n",
       "      <td>Faf De Klerk AKA the giant slayer</td>\n",
       "      <td>FBX_PsUN8UM</td>\n",
       "      <td>World Rugby</td>\n",
       "      <td>2019-10-30</td>\n",
       "      <td>17:41:30</td>\n",
       "      <td>Sports</td>\n",
       "      <td>None</td>\n",
       "      <td>2019-10-27T07:06:51Z</td>\n",
       "      <td>[preview, south africa, promo, faf de klerk, s...</td>\n",
       "      <td>PT2M51S</td>\n",
       "      <td>461</td>\n",
       "      <td>213</td>\n",
       "      <td>7326</td>\n",
       "      <td>647550</td>\n",
       "      <td>55</td>\n",
       "      <td>1</td>\n",
       "    </tr>\n",
       "  </tbody>\n",
       "</table>\n",
       "</div>"
      ],
      "text/plain": [
       "                                        titre_video     video_id  \\\n",
       "7813   Composing Quick Tips - Writing Full Sketches  jqCKoIzdQVA   \n",
       "28780             Faf De Klerk AKA the giant slayer  FBX_PsUN8UM   \n",
       "\n",
       "             nom_chaine date_visionnage heure_visionnage categorie langue  \\\n",
       "7813   Inside the Score      2020-12-20         15:00:48    Gaming     en   \n",
       "28780       World Rugby      2019-10-30         17:41:30    Sports   None   \n",
       "\n",
       "                  publié_le  \\\n",
       "7813   2020-12-07T13:00:28Z   \n",
       "28780  2019-10-27T07:06:51Z   \n",
       "\n",
       "                                                    tags    durée  \\\n",
       "7813                                                None   PT2M2S   \n",
       "28780  [preview, south africa, promo, faf de klerk, s...  PT2M51S   \n",
       "\n",
       "      nombre_de_commentaires nombre_de_dislike nombre_de_like nombre_de_vues  \\\n",
       "7813                      44                 8            267           4836   \n",
       "28780                    461               213           7326         647550   \n",
       "\n",
       "       compte_chaine  compte_video  \n",
       "7813              19             1  \n",
       "28780             55             1  "
      ]
     },
     "execution_count": 3,
     "metadata": {},
     "output_type": "execute_result"
    }
   ],
   "source": [
    "df.sample(2, axis=0)"
   ]
  },
  {
   "cell_type": "code",
   "execution_count": 1,
   "metadata": {},
   "outputs": [],
   "source": [
    "import numpy as np"
   ]
  },
  {
   "cell_type": "code",
   "execution_count": 14,
   "metadata": {},
   "outputs": [
    {
     "name": "stdout",
     "output_type": "stream",
     "text": [
      "Help on built-in function randint:\n",
      "\n",
      "randint(...) method of numpy.random.mtrand.RandomState instance\n",
      "    randint(low, high=None, size=None, dtype=int)\n",
      "    \n",
      "    Return random integers from `low` (inclusive) to `high` (exclusive).\n",
      "    \n",
      "    Return random integers from the \"discrete uniform\" distribution of\n",
      "    the specified dtype in the \"half-open\" interval [`low`, `high`). If\n",
      "    `high` is None (the default), then results are from [0, `low`).\n",
      "    \n",
      "    .. note::\n",
      "        New code should use the ``integers`` method of a ``default_rng()``\n",
      "        instance instead; please see the :ref:`random-quick-start`.\n",
      "    \n",
      "    Parameters\n",
      "    ----------\n",
      "    low : int or array-like of ints\n",
      "        Lowest (signed) integers to be drawn from the distribution (unless\n",
      "        ``high=None``, in which case this parameter is one above the\n",
      "        *highest* such integer).\n",
      "    high : int or array-like of ints, optional\n",
      "        If provided, one above the largest (signed) integer to be drawn\n",
      "        from the distribution (see above for behavior if ``high=None``).\n",
      "        If array-like, must contain integer values\n",
      "    size : int or tuple of ints, optional\n",
      "        Output shape.  If the given shape is, e.g., ``(m, n, k)``, then\n",
      "        ``m * n * k`` samples are drawn.  Default is None, in which case a\n",
      "        single value is returned.\n",
      "    dtype : dtype, optional\n",
      "        Desired dtype of the result. Byteorder must be native.\n",
      "        The default value is int.\n",
      "    \n",
      "        .. versionadded:: 1.11.0\n",
      "    \n",
      "    Returns\n",
      "    -------\n",
      "    out : int or ndarray of ints\n",
      "        `size`-shaped array of random integers from the appropriate\n",
      "        distribution, or a single such random int if `size` not provided.\n",
      "    \n",
      "    See Also\n",
      "    --------\n",
      "    random_integers : similar to `randint`, only for the closed\n",
      "        interval [`low`, `high`], and 1 is the lowest value if `high` is\n",
      "        omitted.\n",
      "    Generator.integers: which should be used for new code.\n",
      "    \n",
      "    Examples\n",
      "    --------\n",
      "    >>> np.random.randint(2, size=10)\n",
      "    array([1, 0, 0, 0, 1, 1, 0, 0, 1, 0]) # random\n",
      "    >>> np.random.randint(1, size=10)\n",
      "    array([0, 0, 0, 0, 0, 0, 0, 0, 0, 0])\n",
      "    \n",
      "    Generate a 2 x 4 array of ints between 0 and 4, inclusive:\n",
      "    \n",
      "    >>> np.random.randint(5, size=(2, 4))\n",
      "    array([[4, 0, 2, 1], # random\n",
      "           [3, 2, 2, 0]])\n",
      "    \n",
      "    Generate a 1 x 3 array with 3 different upper bounds\n",
      "    \n",
      "    >>> np.random.randint(1, [3, 5, 10])\n",
      "    array([2, 2, 9]) # random\n",
      "    \n",
      "    Generate a 1 by 3 array with 3 different lower bounds\n",
      "    \n",
      "    >>> np.random.randint([1, 5, 7], 10)\n",
      "    array([9, 8, 7]) # random\n",
      "    \n",
      "    Generate a 2 by 4 array using broadcasting with dtype of uint8\n",
      "    \n",
      "    >>> np.random.randint([1, 3, 5, 7], [[10], [20]], dtype=np.uint8)\n",
      "    array([[ 8,  6,  9,  7], # random\n",
      "           [ 1, 16,  9, 12]], dtype=uint8)\n",
      "\n"
     ]
    }
   ],
   "source": [
    "help(np.random.randint)"
   ]
  },
  {
   "cell_type": "code",
   "execution_count": 3,
   "metadata": {},
   "outputs": [
    {
     "data": {
      "text/plain": [
       "[2, 3, 1, 3]"
      ]
     },
     "execution_count": 3,
     "metadata": {},
     "output_type": "execute_result"
    }
   ],
   "source": [
    "list(np.random.randint(1,4,4))"
   ]
  },
  {
   "cell_type": "markdown",
   "metadata": {},
   "source": [
    "### .replace()"
   ]
  },
  {
   "cell_type": "code",
   "execution_count": 4,
   "metadata": {},
   "outputs": [],
   "source": [
    "df['langue'].replace('en', 'english', inplace=True)"
   ]
  },
  {
   "cell_type": "code",
   "execution_count": 5,
   "metadata": {},
   "outputs": [
    {
     "data": {
      "text/html": [
       "<div>\n",
       "<style scoped>\n",
       "    .dataframe tbody tr th:only-of-type {\n",
       "        vertical-align: middle;\n",
       "    }\n",
       "\n",
       "    .dataframe tbody tr th {\n",
       "        vertical-align: top;\n",
       "    }\n",
       "\n",
       "    .dataframe thead th {\n",
       "        text-align: right;\n",
       "    }\n",
       "</style>\n",
       "<table border=\"1\" class=\"dataframe\">\n",
       "  <thead>\n",
       "    <tr style=\"text-align: right;\">\n",
       "      <th></th>\n",
       "      <th>titre_video</th>\n",
       "      <th>video_id</th>\n",
       "      <th>nom_chaine</th>\n",
       "      <th>date_visionnage</th>\n",
       "      <th>heure_visionnage</th>\n",
       "      <th>categorie</th>\n",
       "      <th>langue</th>\n",
       "      <th>publié_le</th>\n",
       "      <th>tags</th>\n",
       "      <th>durée</th>\n",
       "      <th>nombre_de_commentaires</th>\n",
       "      <th>nombre_de_dislike</th>\n",
       "      <th>nombre_de_like</th>\n",
       "      <th>nombre_de_vues</th>\n",
       "      <th>compte_chaine</th>\n",
       "      <th>compte_video</th>\n",
       "    </tr>\n",
       "  </thead>\n",
       "  <tbody>\n",
       "    <tr>\n",
       "      <th>29650</th>\n",
       "      <td>Opening Ceremony Presented by Mastercard | Fin...</td>\n",
       "      <td>WYSJIoehGq0</td>\n",
       "      <td>League of Legends</td>\n",
       "      <td>2019-09-25</td>\n",
       "      <td>05:11:14</td>\n",
       "      <td>Gaming</td>\n",
       "      <td>english</td>\n",
       "      <td>2018-11-03T16:11:54Z</td>\n",
       "      <td>[League of Legends, LoL, esports, 2018, game, ...</td>\n",
       "      <td>PT15M50S</td>\n",
       "      <td>7946</td>\n",
       "      <td>2978</td>\n",
       "      <td>167469</td>\n",
       "      <td>8600526</td>\n",
       "      <td>39</td>\n",
       "      <td>1</td>\n",
       "    </tr>\n",
       "    <tr>\n",
       "      <th>42908</th>\n",
       "      <td>How to kill Tryndamere DURING HIS ULT? Bug Ana...</td>\n",
       "      <td>-TbMRJMtuGc</td>\n",
       "      <td>Vandiril</td>\n",
       "      <td>2018-05-10</td>\n",
       "      <td>22:20:07</td>\n",
       "      <td>Gaming</td>\n",
       "      <td>en-GB</td>\n",
       "      <td>2018-05-09T23:25:18Z</td>\n",
       "      <td>[vandiril, how to kill tryndamere with R, tryn...</td>\n",
       "      <td>PT4M22S</td>\n",
       "      <td>495</td>\n",
       "      <td>105</td>\n",
       "      <td>4570</td>\n",
       "      <td>237624</td>\n",
       "      <td>40</td>\n",
       "      <td>1</td>\n",
       "    </tr>\n",
       "  </tbody>\n",
       "</table>\n",
       "</div>"
      ],
      "text/plain": [
       "                                             titre_video     video_id  \\\n",
       "29650  Opening Ceremony Presented by Mastercard | Fin...  WYSJIoehGq0   \n",
       "42908  How to kill Tryndamere DURING HIS ULT? Bug Ana...  -TbMRJMtuGc   \n",
       "\n",
       "              nom_chaine date_visionnage heure_visionnage categorie   langue  \\\n",
       "29650  League of Legends      2019-09-25         05:11:14    Gaming  english   \n",
       "42908           Vandiril      2018-05-10         22:20:07    Gaming    en-GB   \n",
       "\n",
       "                  publié_le  \\\n",
       "29650  2018-11-03T16:11:54Z   \n",
       "42908  2018-05-09T23:25:18Z   \n",
       "\n",
       "                                                    tags     durée  \\\n",
       "29650  [League of Legends, LoL, esports, 2018, game, ...  PT15M50S   \n",
       "42908  [vandiril, how to kill tryndamere with R, tryn...   PT4M22S   \n",
       "\n",
       "      nombre_de_commentaires nombre_de_dislike nombre_de_like nombre_de_vues  \\\n",
       "29650                   7946              2978         167469        8600526   \n",
       "42908                    495               105           4570         237624   \n",
       "\n",
       "       compte_chaine  compte_video  \n",
       "29650             39             1  \n",
       "42908             40             1  "
      ]
     },
     "execution_count": 5,
     "metadata": {},
     "output_type": "execute_result"
    }
   ],
   "source": [
    "df.sample(2, axis=0)"
   ]
  },
  {
   "cell_type": "code",
   "execution_count": 11,
   "metadata": {},
   "outputs": [
    {
     "data": {
      "text/plain": [
       "array(['fr', 'english', 'en-US', None, 'en-CA', 'en-GB', 'ja', 'ko',\n",
       "       'zxx', 'vi', 'fr-FR', 'en-IE', 'pt-PT', 'fi', 'zh', 'en-IN',\n",
       "       'fr-CA', 'it', 'es', 'pl', 'hi', 'de', 'fr-BE', 'zh-Hant', 'tr',\n",
       "       'id', 'zh-CN', 'es-419', 'ru', 'und', 'no', 'hu', 'ar', 'nl', 'pt',\n",
       "       'zh-Hans', 'ca', 'zh-TW', 'th', 'yue-HK', 'el', 'nl-NL'],\n",
       "      dtype=object)"
      ]
     },
     "execution_count": 11,
     "metadata": {},
     "output_type": "execute_result"
    }
   ],
   "source": [
    "pd.unique(df['langue'])"
   ]
  },
  {
   "cell_type": "code",
   "execution_count": 12,
   "metadata": {},
   "outputs": [],
   "source": [
    "df['langue'].replace(['en-US', 'en-CA', 'en-GB', 'en-IE', 'en-IN'], 'english', inplace=True)"
   ]
  },
  {
   "cell_type": "code",
   "execution_count": 13,
   "metadata": {},
   "outputs": [
    {
     "data": {
      "text/plain": [
       "array(['fr', 'english', None, 'ja', 'ko', 'zxx', 'vi', 'fr-FR', 'pt-PT',\n",
       "       'fi', 'zh', 'fr-CA', 'it', 'es', 'pl', 'hi', 'de', 'fr-BE',\n",
       "       'zh-Hant', 'tr', 'id', 'zh-CN', 'es-419', 'ru', 'und', 'no', 'hu',\n",
       "       'ar', 'nl', 'pt', 'zh-Hans', 'ca', 'zh-TW', 'th', 'yue-HK', 'el',\n",
       "       'nl-NL'], dtype=object)"
      ]
     },
     "execution_count": 13,
     "metadata": {},
     "output_type": "execute_result"
    }
   ],
   "source": [
    "pd.unique(df['langue'])"
   ]
  },
  {
   "cell_type": "code",
   "execution_count": 14,
   "metadata": {},
   "outputs": [],
   "source": [
    "df['langue'].replace(['fr', 'ja'], ['français', 'japonais'], inplace=True)"
   ]
  },
  {
   "cell_type": "code",
   "execution_count": 15,
   "metadata": {},
   "outputs": [
    {
     "data": {
      "text/plain": [
       "array(['français', 'english', None, 'japonais', 'ko', 'zxx', 'vi',\n",
       "       'fr-FR', 'pt-PT', 'fi', 'zh', 'fr-CA', 'it', 'es', 'pl', 'hi',\n",
       "       'de', 'fr-BE', 'zh-Hant', 'tr', 'id', 'zh-CN', 'es-419', 'ru',\n",
       "       'und', 'no', 'hu', 'ar', 'nl', 'pt', 'zh-Hans', 'ca', 'zh-TW',\n",
       "       'th', 'yue-HK', 'el', 'nl-NL'], dtype=object)"
      ]
     },
     "execution_count": 15,
     "metadata": {},
     "output_type": "execute_result"
    }
   ],
   "source": [
    "pd.unique(df['langue'])"
   ]
  },
  {
   "cell_type": "code",
   "execution_count": 16,
   "metadata": {},
   "outputs": [],
   "source": [
    "df['langue'].replace({'fr-FR':'français', 'fr_CA':'français'}, inplace=True)"
   ]
  },
  {
   "cell_type": "code",
   "execution_count": 17,
   "metadata": {},
   "outputs": [
    {
     "data": {
      "text/plain": [
       "array(['français', 'english', None, 'japonais', 'ko', 'zxx', 'vi',\n",
       "       'pt-PT', 'fi', 'zh', 'fr-CA', 'it', 'es', 'pl', 'hi', 'de',\n",
       "       'fr-BE', 'zh-Hant', 'tr', 'id', 'zh-CN', 'es-419', 'ru', 'und',\n",
       "       'no', 'hu', 'ar', 'nl', 'pt', 'zh-Hans', 'ca', 'zh-TW', 'th',\n",
       "       'yue-HK', 'el', 'nl-NL'], dtype=object)"
      ]
     },
     "execution_count": 17,
     "metadata": {},
     "output_type": "execute_result"
    }
   ],
   "source": [
    "pd.unique(df['langue'])"
   ]
  },
  {
   "cell_type": "markdown",
   "metadata": {},
   "source": [
    "### .iterrows()"
   ]
  },
  {
   "cell_type": "markdown",
   "metadata": {},
   "source": [
    "### .apply()"
   ]
  },
  {
   "cell_type": "markdown",
   "metadata": {},
   "source": [
    "### Vectorization w/ numpy arrays using .values()"
   ]
  },
  {
   "cell_type": "code",
   "execution_count": null,
   "metadata": {},
   "outputs": [],
   "source": [
    "# df[qchsq].values.mean(axis=1)"
   ]
  },
  {
   "cell_type": "code",
   "execution_count": null,
   "metadata": {},
   "outputs": [],
   "source": [
    "#df.groupby(\"age\").transform(zscore)"
   ]
  },
  {
   "cell_type": "markdown",
   "metadata": {},
   "source": [
    "### Missing value imputation"
   ]
  },
  {
   "cell_type": "code",
   "execution_count": null,
   "metadata": {},
   "outputs": [],
   "source": [
    "missing_trans = lambda x: x.fillna(x.median())"
   ]
  },
  {
   "cell_type": "code",
   "execution_count": null,
   "metadata": {},
   "outputs": [],
   "source": [
    "restaurant_grouped = restaurant_data.groupby('time')\n",
    "restaurant_impute = restaurant_grouped.transform(missing_trans)"
   ]
  },
  {
   "cell_type": "markdown",
   "metadata": {},
   "source": [
    "### filter()"
   ]
  },
  {
   "cell_type": "code",
   "execution_count": null,
   "metadata": {},
   "outputs": [],
   "source": [
    "restaurant_grouped = restaurant.groupby('day')\n",
    "filter_trans = lambda x: x['total_bill'].mean() > 20\n",
    "restaurant_filtered = restaurant_grouped.filter(filter_trans)"
   ]
  }
 ],
 "metadata": {
  "interpreter": {
   "hash": "fe06f96167c4fc64a78c238d993189072a4e72b444216e36203d6f96126eaf0a"
  },
  "kernelspec": {
   "display_name": "Python 3.9.7 64-bit",
   "language": "python",
   "name": "python3"
  },
  "language_info": {
   "codemirror_mode": {
    "name": "ipython",
    "version": 3
   },
   "file_extension": ".py",
   "mimetype": "text/x-python",
   "name": "python",
   "nbconvert_exporter": "python",
   "pygments_lexer": "ipython3",
   "version": "3.9.7"
  },
  "orig_nbformat": 4
 },
 "nbformat": 4,
 "nbformat_minor": 2
}

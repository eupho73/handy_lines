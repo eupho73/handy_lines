{
 "cells": [
  {
   "cell_type": "markdown",
   "metadata": {},
   "source": [
    "# Software engineering for data scientists in Python"
   ]
  },
  {
   "cell_type": "markdown",
   "metadata": {},
   "source": [
    "Modularity:\n",
    "- divide code in shorter, functional units\n",
    "- improve readability\n",
    "- improve maintanability"
   ]
  },
  {
   "cell_type": "markdown",
   "metadata": {},
   "source": [
    "### Conventions and PEP 8"
   ]
  },
  {
   "cell_type": "markdown",
   "metadata": {},
   "source": [
    "`pycodestyle` permet de voir les PEP 8 violations"
   ]
  },
  {
   "cell_type": "markdown",
   "metadata": {},
   "source": [
    "En gros j'appliquais déjà ces règles... \n",
    "- espace entre symbole, après virgule\n",
    "- sauter des lignes entres différentes idées\n",
    "- les import sont au début du code\n",
    "- les commentaires commencent avec '# '"
   ]
  },
  {
   "cell_type": "markdown",
   "metadata": {},
   "source": [
    "### Writing a package"
   ]
  },
  {
   "cell_type": "markdown",
   "metadata": {},
   "source": [
    "The package name should be lowercase, avoid _ (only if necessary)\n",
    "- file named `__init__.py` in package_name directory\n",
    "- call `import package_name` in the CWD where `script.py` is"
   ]
  },
  {
   "cell_type": "markdown",
   "metadata": {},
   "source": [
    "### Adding functionality"
   ]
  },
  {
   "cell_type": "markdown",
   "metadata": {},
   "source": [
    "On ajoute un fichier `utils.py` contenant les fonctionalités dans le folder $package \\_ name$\n",
    "- On écrit ensuite dans le fichier du CWD"
   ]
  },
  {
   "cell_type": "code",
   "execution_count": null,
   "metadata": {},
   "outputs": [],
   "source": [
    "# Python 3 or above\n",
    "from .utils import func\n",
    "\n",
    "# Autre manière\n",
    "import package_name.utils\n",
    "\n",
    "# Use function\n",
    "package_name.utils.func()\n",
    "\n",
    "# Exemple de Sub packages\n",
    "from sklearn.preprocessing import OneHotEncoder"
   ]
  },
  {
   "cell_type": "markdown",
   "metadata": {},
   "source": [
    "### Making your package portable"
   ]
  },
  {
   "cell_type": "markdown",
   "metadata": {},
   "source": [
    "We need two files in the work_dir:\n",
    "- requirements.txt sous la forme  "
   ]
  },
  {
   "cell_type": "code",
   "execution_count": null,
   "metadata": {},
   "outputs": [],
   "source": [
    "# Needed packages/versions\n",
    "matplotlib\n",
    "numpy==1.15.4\n",
    "pycodestyle>+2.4.0"
   ]
  },
  {
   "cell_type": "markdown",
   "metadata": {},
   "source": [
    "pip install -r requirements.txt installe tout les packages nécessaires"
   ]
  },
  {
   "cell_type": "markdown",
   "metadata": {},
   "source": [
    "- setup.py"
   ]
  },
  {
   "cell_type": "code",
   "execution_count": null,
   "metadata": {},
   "outputs": [],
   "source": [
    "from setuptools import setup\n",
    "\n",
    "setup(name='my_package',\n",
    "version='0.0.1',\n",
    "description='An example package',\n",
    "author='Damian',\n",
    "author_email='damien.fournier@oobien.com',\n",
    "packages=['my_package'],\n",
    "install_requires=['matplotlib', 'numpy==1.15.4', 'pycodestyle>=2.4.0'])"
   ]
  },
  {
   "cell_type": "markdown",
   "metadata": {},
   "source": [
    "## Adding classes to a package"
   ]
  },
  {
   "cell_type": "code",
   "execution_count": null,
   "metadata": {},
   "outputs": [],
   "source": [
    "# Même syntaxe\n",
    "\n",
    "from .documents import Document   # Document est une classe présente dans /wd/my_package/documents.py"
   ]
  },
  {
   "cell_type": "markdown",
   "metadata": {},
   "source": [
    "### Inheritance "
   ]
  },
  {
   "cell_type": "code",
   "execution_count": null,
   "metadata": {},
   "outputs": [],
   "source": [
    "# Import ParentClass object\n",
    "from .parent_class import ParentClass\n",
    "\n",
    "# Create a child class with inheritance\n",
    "class ChildClass(ParentClass):\n",
    "    def __init__(self):\n",
    "        # Call parent's __init__ method\n",
    "        ParentClass.__init__(self)\n",
    "        # Add attribute unique to child class\n",
    "        self.child_attribute = \"I'm a child class attribute!\"\n",
    "\n",
    "# Create a ChildClass instance\n",
    "child_class = ChildClass()"
   ]
  },
  {
   "cell_type": "markdown",
   "metadata": {},
   "source": [
    "### Multilevel inheritence and super"
   ]
  },
  {
   "cell_type": "code",
   "execution_count": 3,
   "metadata": {},
   "outputs": [
    {
     "name": "stdout",
     "output_type": "stream",
     "text": [
      "I'm a parent!\n",
      "I'm a super child!\n",
      "I'm a grandchild!\n"
     ]
    }
   ],
   "source": [
    "class Parent:\n",
    "    def __init__(self):\n",
    "        print(\"I'm a parent!\")\n",
    "\n",
    "class Child(Parent):\n",
    "    def __init__(self):\n",
    "        Parent.__init__(self)\n",
    "        print(\"I'm a child!\")\n",
    "\n",
    "class SuperChild(Parent):\n",
    "    def __init__(self):\n",
    "        super().__init__()\n",
    "        print(\"I'm a super child!\")\n",
    "\n",
    "class Grandchild(SuperChild):\n",
    "    def __init__(self):\n",
    "        super().__init__()\n",
    "        print(\"I'm a grandchild!\")\n",
    "\n",
    "grandchild = Grandchild()"
   ]
  },
  {
   "cell_type": "code",
   "execution_count": 4,
   "metadata": {},
   "outputs": [
    {
     "name": "stdout",
     "output_type": "stream",
     "text": [
      "I'm a parent!\n",
      "I'm a child!\n"
     ]
    }
   ],
   "source": [
    "child = Child()"
   ]
  },
  {
   "cell_type": "markdown",
   "metadata": {},
   "source": [
    "## Documentation"
   ]
  },
  {
   "cell_type": "code",
   "execution_count": 1,
   "metadata": {},
   "outputs": [
    {
     "name": "stdout",
     "output_type": "stream",
     "text": [
      "The Zen of Python, by Tim Peters\n",
      "\n",
      "Beautiful is better than ugly.\n",
      "Explicit is better than implicit.\n",
      "Simple is better than complex.\n",
      "Complex is better than complicated.\n",
      "Flat is better than nested.\n",
      "Sparse is better than dense.\n",
      "Readability counts.\n",
      "Special cases aren't special enough to break the rules.\n",
      "Although practicality beats purity.\n",
      "Errors should never pass silently.\n",
      "Unless explicitly silenced.\n",
      "In the face of ambiguity, refuse the temptation to guess.\n",
      "There should be one-- and preferably only one --obvious way to do it.\n",
      "Although that way may not be obvious at first unless you're Dutch.\n",
      "Now is better than never.\n",
      "Although never is often better than *right* now.\n",
      "If the implementation is hard to explain, it's a bad idea.\n",
      "If the implementation is easy to explain, it may be a good idea.\n",
      "Namespaces are one honking great idea -- let's do more of those!\n"
     ]
    }
   ],
   "source": [
    "import this"
   ]
  },
  {
   "cell_type": "markdown",
   "metadata": {},
   "source": [
    "## Unit testing"
   ]
  },
  {
   "cell_type": "code",
   "execution_count": 2,
   "metadata": {},
   "outputs": [],
   "source": [
    "# Example using doctest\n",
    "\n",
    "def square(x):\n",
    "    \"\"\"Square the number x\n",
    "    \n",
    "    :params x: number to square\n",
    "    :return: x squared\n",
    "    \n",
    "    >>> square(3)\n",
    "    9\n",
    "    \"\"\"\n",
    "    return x ** x"
   ]
  },
  {
   "cell_type": "code",
   "execution_count": 4,
   "metadata": {},
   "outputs": [
    {
     "name": "stdout",
     "output_type": "stream",
     "text": [
      "**********************************************************************\n",
      "File \"__main__\", line 9, in __main__.square\n",
      "Failed example:\n",
      "    square(3)\n",
      "Expected:\n",
      "    9\n",
      "Got:\n",
      "    27\n",
      "**********************************************************************\n",
      "1 items had failures:\n",
      "   1 of   1 in __main__.square\n",
      "***Test Failed*** 1 failures.\n"
     ]
    },
    {
     "data": {
      "text/plain": [
       "TestResults(failed=1, attempted=1)"
      ]
     },
     "execution_count": 4,
     "metadata": {},
     "output_type": "execute_result"
    }
   ],
   "source": [
    "import doctest\n",
    "\n",
    "doctest.testmod()"
   ]
  },
  {
   "cell_type": "markdown",
   "metadata": {},
   "source": [
    "We just learned about doctest, which, if you're writing full docstrings with examples, is a simple way to minimally test your functions. In this exercise, you'll get some hands-on practice testing and debugging with doctest."
   ]
  },
  {
   "cell_type": "code",
   "execution_count": null,
   "metadata": {},
   "outputs": [],
   "source": [
    "# Good for smaller tests\n",
    "# work_dir\n",
    "#       - setup.py\n",
    "#       - requirements.txt\n",
    "#       - text_analyzer\n",
    "#           - __init__.py\n",
    "#           - document.py\n",
    "#       - tests\n",
    "#           - test_unit.py\n",
    "#           - subpackage_tests\n",
    "#               - test_x.py\n",
    "#           - subpackage2_tests\n",
    "#               - test_y.py"
   ]
  },
  {
   "cell_type": "code",
   "execution_count": null,
   "metadata": {},
   "outputs": [],
   "source": [
    "# les fonctions de test doivent commencer par test\n",
    "# working in workdir/tests/test_document.py\n",
    "\n",
    "# Test tokens attribute on Document object\n",
    "def test_document_tokens():\n",
    "    doc = Document('a e i o u')\n",
    "\n",
    "    assert doc.tokens == ['a', 'e', 'i', 'o', 'u']\n",
    "\n",
    "# Test edge case of blank document\n",
    "def test_document_empty():\n",
    "    doc = Document('')\n",
    "\n",
    "    assert doc.tokens == []\n",
    "    assert doc.word_counts == Counter()"
   ]
  },
  {
   "cell_type": "markdown",
   "metadata": {},
   "source": [
    "To run tests  \n",
    "`~/work_dir $ pytest`"
   ]
  },
  {
   "cell_type": "markdown",
   "metadata": {},
   "source": [
    "## Additional tools"
   ]
  },
  {
   "cell_type": "markdown",
   "metadata": {},
   "source": [
    "- [Sphinx](https://www.sphinx-doc.org/en/master/) is a python documentation generator. Generates doc from docstrings\n",
    "- [Travis CI](https://travis-ci.org/) continuous integration. When adding code, tests automatically. Scheduled tests...\n",
    "- [Codecov](https://about.codecov.io/) discover where to improve your projects tests\n",
    "- [Code Climate](https://codeclimate.com/) analyze your code for improvementsin readability (point out if the code is not modular)"
   ]
  },
  {
   "cell_type": "markdown",
   "metadata": {},
   "source": [
    "### Utilisation de Sphynx"
   ]
  },
  {
   "cell_type": "code",
   "execution_count": null,
   "metadata": {},
   "outputs": [],
   "source": [
    "from text_analyzer import Document\n",
    "\n",
    "class SocialMedia(Document):\n",
    "    \"\"\"Analyze text data from social media\n",
    "    \n",
    "    :param text: social media text to analyze\n",
    "\n",
    "    :ivar hashtag_counts: Counter object containing counts of hashtags used in text\n",
    "    :ivar mention_counts: Counter object containing counts of @mentions used in text\n",
    "    \"\"\"\n",
    "    def __init__(self, text):\n",
    "        Document.__init__(self, text)\n",
    "        self.hashtag_counts = self._count_hashtags()\n",
    "        self.mention_counts = self._count_mentions()"
   ]
  }
 ],
 "metadata": {
  "interpreter": {
   "hash": "fe06f96167c4fc64a78c238d993189072a4e72b444216e36203d6f96126eaf0a"
  },
  "kernelspec": {
   "display_name": "Python 3.9.7 64-bit",
   "language": "python",
   "name": "python3"
  },
  "language_info": {
   "codemirror_mode": {
    "name": "ipython",
    "version": 3
   },
   "file_extension": ".py",
   "mimetype": "text/x-python",
   "name": "python",
   "nbconvert_exporter": "python",
   "pygments_lexer": "ipython3",
   "version": "3.9.7"
  },
  "orig_nbformat": 4
 },
 "nbformat": 4,
 "nbformat_minor": 2
}
